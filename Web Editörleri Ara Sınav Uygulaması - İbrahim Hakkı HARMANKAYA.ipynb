{
 "cells": [
  {
   "cell_type": "markdown",
   "id": "a90db1ba-6346-456c-b18f-a494c03a7eef",
   "metadata": {},
   "source": [
    "# Computer Vision\n",
    "\n",
    "Dijital görüntüleri ve videoları analiz etmek ve yorumlamak için kullanılır. İnsan gözünün algılama ve yorumlama yeteneğini taklit eder. Temel amacı videolardan veya görüntülerden anlam çıkartmaya çalışmaktır.\n",
    "\n",
    "Genellikle dijital görüntü işleme, makine öğrenimi ve yapay zeka tekniklerini anlam çıkartmak için kullanır.\n",
    "\n",
    "Bu teknolojinin uygulama alanları oldukça geniştir. Tıp, otomotiv, savunma sanayi gibi sektörlerde kullanılabilmektedir. Örneğin, tıbbi görüntülemede kanserli hücreleri tespit etmek veya savunma sanayide insanların yürüyüşünden tanınması tarzında örnekler verilebilri."
   ]
  },
  {
   "cell_type": "markdown",
   "id": "ebfa1415-77ef-4991-9a36-5cfa1cb92932",
   "metadata": {},
   "source": [
    "### OpenCv Kütüphanesi Kullanımı\n",
    "OpenCv kütüphanesi kullanarak aşağıdaki işlemler yapılabilir:\n",
    "\n",
    "1- Gerekli Kütüphaneleri Çağırma\n",
    "\n",
    "2- Resim Yüklama ve Gösterme\n",
    "\n",
    "3- Resimlerin Yüklenip Yüklenmediğini Kontrol Etme\n",
    "\n",
    "4- Yüzleri Kare Etrafına Alma\n",
    "\n",
    "5- Fotoğrafı Gri Yapma\n",
    "\n",
    "6- Fotoğrafı Siyah ve Bayaz Yapma\n",
    "\n",
    "7- Fotoğrafı Bulanıklaştırma\n",
    "\n",
    "8- Fotoğrafı Döndürme\n",
    "\n",
    "9- Fotoğrafın Kenarlarını Bellirleme\n",
    "\n",
    "10- Yolun Şeritlerini Belirleme\n",
    "\n",
    "11- Bozuk Paraları Yuvarlak İçine Alma\n",
    "\n",
    "12- Resimdeki Kelimeleri İşaretleme\n",
    "\n",
    "13- Histogram Grafiği Kullanarak Piksel Yoğunluğunu Hesaplama"
   ]
  },
  {
   "cell_type": "markdown",
   "id": "bf8597a7-af19-4875-9ea5-9fb77b63b804",
   "metadata": {},
   "source": [
    "### 0- Kütüphanenin Kurulumu"
   ]
  },
  {
   "cell_type": "code",
   "execution_count": null,
   "id": "e8300d50-497c-42e1-ac2b-cc458bffa579",
   "metadata": {},
   "outputs": [],
   "source": [
    "pip install numpy #Bu kod görüntü işlemede kullanılan büyük bir kütüphanedir. Öncelikle bu kütüphaneyi yüklememiz gerekmektedir.\n",
    "pip install opencv-python #Daha sonra bu kodu kullanarak OpenCV kurulumunu tamamlamış olacaksınız."
   ]
  },
  {
   "cell_type": "markdown",
   "id": "3a012d5b-7d9d-4b64-82fd-0539628cd9ab",
   "metadata": {},
   "source": [
    "### 1- Gerekli Kütüphaneleri Çağırma"
   ]
  },
  {
   "cell_type": "code",
   "execution_count": null,
   "id": "16af5290-9980-42ea-86f9-c4266926ae24",
   "metadata": {},
   "outputs": [],
   "source": [
    "import cv2 \n",
    "from matplotlib import pyplot as plt\n",
    "import numpy as np\n",
    "# Burada tüm kütüphaner yüklenir. Görsel işleme ve görselleştirme işlemleri için gerekli olanlar yüklenir.\n"
   ]
  },
  {
   "cell_type": "markdown",
   "id": "474f1e1f-1f51-4097-b13b-2997d2f13464",
   "metadata": {},
   "source": [
    "### 2- Resim Yükleme ve Gösterme"
   ]
  },
  {
   "cell_type": "code",
   "execution_count": null,
   "id": "3be2c9b7-6708-4de3-9ab5-215ce741fef0",
   "metadata": {},
   "outputs": [],
   "source": [
    "resim = cv2.imread(\"Hocalar.jpeg\") # Resimi okur. Resimi yükler.\n",
    "cv2.imshow(\"Resim\",resim) # Resimi gösterir.\n",
    "cv2.waitKey(0) # Bir tuşa basılasıya kadar bekler.\n",
    "cv2.destroyAllWindows() # Görseli kapatır."
   ]
  },
  {
   "cell_type": "markdown",
   "id": "5d89ca20",
   "metadata": {},
   "source": [
    "### 3- Resimlerin Yüklenip Yüklenmediğini Kontrol Etme"
   ]
  },
  {
   "cell_type": "code",
   "execution_count": null,
   "id": "4d0c23c4",
   "metadata": {},
   "outputs": [],
   "source": [
    "# Görüntüyü yükler.\n",
    "resim = cv2.imread(\"Hocalar.jpeg\")\n",
    "\n",
    "# Görüntüyü kontrol eder.\n",
    "if resim is None: # Eğer görüntü yok ise bu kodu çalıştırır.\n",
    "    print(\"Görüntü yüklenemedi\")\n",
    "else: # Eğer görüntü var ise bu kodu çalıştırır.\n",
    "    print(\"Görüntü başarıyla yüklendi\")\n"
   ]
  },
  {
   "cell_type": "markdown",
   "id": "1384bf1c-b05d-4ff2-a44b-0740b99eba31",
   "metadata": {},
   "source": [
    "### 4- Yüzleri Kare Etrafına Alma"
   ]
  },
  {
   "cell_type": "code",
   "execution_count": null,
   "id": "b265a851-406a-49c5-af2f-3e8cfaf6087f",
   "metadata": {},
   "outputs": [],
   "source": [
    "yüz_tanım = cv2.CascadeClassifier(cv2.data.haarcascades + 'haarcascade_frontalface_default.xml') # Yüz algılama sınıfını oluşturur.\n",
    "\n",
    "# Görüntüyü yükler.\n",
    "img_path = \"Hocalar.jpeg\"\n",
    "resim = cv2.imread(img_path)\n",
    "\n",
    "# Yüzleri algılar.\n",
    "gri_resim = cv2.cvtColor(resim, cv2.COLOR_BGR2GRAY)\n",
    "yüzler = yüz_tanım.detectMultiScale(gri_resim, scaleFactor=1.1, minNeighbors=5)\n",
    "\n",
    "# Yüzleri çerçeve içine alır.\n",
    "for (x, y, w, h) in yüzler:cv2.rectangle(resim, (x, y), (x+w, y+h), (255, 0, 0), 2) #Yüzlerin etrafını algılar ve kare çizer.\n",
    "\n",
    "# Görüntüyü gösterir.\n",
    "cv2.imshow(\"Yuzleri Goster\", resim)\n",
    "cv2.waitKey(0)\n",
    "cv2.destroyAllWindows()"
   ]
  },
  {
   "cell_type": "markdown",
   "id": "7ca3f6d1",
   "metadata": {},
   "source": [
    "### 5- Fotoğrafı Gri Yapma"
   ]
  },
  {
   "cell_type": "code",
   "execution_count": null,
   "id": "1f8e4f00-3502-461b-aadf-2b4f2b72b9d7",
   "metadata": {},
   "outputs": [],
   "source": [
    "# Fotoğrafı yükler.\n",
    "resim = cv2.imread(\"Hocalar.jpeg\")\n",
    "\n",
    "# Gri tona dönüştürür.\n",
    "gri_resim = cv2.cvtColor(resim, cv2.COLOR_BGR2GRAY)\n",
    "\n",
    "# Gri tonlu fotoğrafı gösterir.\n",
    "cv2.imshow(\"Gri Tonlu Fotoğraf\", gri_resim)\n",
    "cv2.waitKey(0)\n",
    "cv2.destroyAllWindows()\n"
   ]
  },
  {
   "cell_type": "markdown",
   "id": "efce2aa3",
   "metadata": {},
   "source": [
    "### 6- Fotoğrafı Siyah ve Bayaz Yapma"
   ]
  },
  {
   "cell_type": "code",
   "execution_count": null,
   "id": "cdd6cedb-70b0-4b92-bb7e-406f08523a2e",
   "metadata": {},
   "outputs": [],
   "source": [
    "# Fotoğrafı yükler.\n",
    "resim = cv2.imread(\"Hocalar.jpeg\")\n",
    "\n",
    "# Gri tona dönüştürür.\n",
    "gri_resim = cv2.cvtColor(resim, cv2.COLOR_BGR2GRAY)\n",
    "\n",
    "# Eşik değeri belirler.\n",
    "_, siyahvebeyaz = cv2.threshold(gri_resim, 127, 255, cv2.THRESH_BINARY) # Eşik değeri olarak seçilen 127'yi geçerse siyah geçmezse beyaz olacak şekilde ayarlandı.\n",
    "\n",
    "# Siyah beyaz fotoğrafı gösterir.\n",
    "cv2.imshow(\"Siyah Beyaz Fotoğraf\", siyahvebeyaz)\n",
    "cv2.waitKey(0)\n",
    "cv2.destroyAllWindows()"
   ]
  },
  {
   "cell_type": "markdown",
   "id": "1a84a6ee",
   "metadata": {},
   "source": [
    "### 7- Fotoğrafı Bulanıklaştırma"
   ]
  },
  {
   "cell_type": "code",
   "execution_count": null,
   "id": "5cc6ca5b-4cdb-4c00-bb8f-4f372fe40855",
   "metadata": {},
   "outputs": [],
   "source": [
    "# Fotoğrafı yükler.\n",
    "resim = cv2.imread(\"Hocalar.jpeg\")\n",
    "\n",
    "# Bulanıklaştırma işlemini yapar.\n",
    "bulanık = cv2.GaussianBlur(resim, (15, 15), 0) # Bulanıklaştırma yapar ve bulanıklaştırma şiddetini ayarlar.\n",
    "\n",
    "# Bulanıklaştırılmış fotoğrafı gösterir.\n",
    "cv2.imshow(\"Bulanıklaştırılmış Fotoğraf\", bulanık)\n",
    "cv2.waitKey(0)\n",
    "cv2.destroyAllWindows()\n"
   ]
  },
  {
   "cell_type": "markdown",
   "id": "a443ee0e",
   "metadata": {},
   "source": [
    "### 8- Fotoğrafı Döndürme"
   ]
  },
  {
   "cell_type": "code",
   "execution_count": null,
   "id": "1b421299-93ba-4bd3-b834-9b7e6a312c1e",
   "metadata": {},
   "outputs": [],
   "source": [
    "# Görüntüyü yükler.\n",
    "resim_yükleme = \"Hocalar.jpeg\"\n",
    "resim = cv2.imread(resim_yükleme)\n",
    "\n",
    "# Gri tona dönüştürür.\n",
    "gri_resim = cv2.cvtColor(resim, cv2.COLOR_BGR2GRAY)\n",
    "\n",
    "# Görüntünün boyutlarını alır.\n",
    "(h, w) = gri_resim.shape[:2] # Boyutları ayarlar.\n",
    "\n",
    "# Dönme merkezini belirler.\n",
    "center = (w // 2, h // 2) #  H ve W değerlerine göre merkezi alır.\n",
    "\n",
    "# Dönme matrisini oluşturur.\n",
    "angle = 13\n",
    "scale = 1.1\n",
    "M = cv2.getRotationMatrix2D(center, angle, scale) # Döndürme işlemini yapar.\n",
    "\n",
    "# Dönüştürür.\n",
    "rotated = cv2.warpAffine(gri_resim, M, (w, h))\n",
    "\n",
    "# Görüntüyü gösterir.\n",
    "plt.imshow(rotated, cmap='gray')\n",
    "plt.axis('off')\n",
    "plt.show()"
   ]
  },
  {
   "cell_type": "markdown",
   "id": "5bf3ff6f",
   "metadata": {},
   "source": [
    "### 9- Fotoğrafın Kenarlarını Bellirleme"
   ]
  },
  {
   "cell_type": "code",
   "execution_count": null,
   "id": "780699fa-ba1e-4afe-98ed-cca0059e16de",
   "metadata": {},
   "outputs": [],
   "source": [
    "# Görüntüyü yükler.\n",
    "resim_yükleme = \"Hocalar.jpeg\"\n",
    "resim = cv2.imread(resim_yükleme)\n",
    "\n",
    "# Gri tona dönüştürür.\n",
    "gri_resim = cv2.cvtColor(resim, cv2.COLOR_BGR2GRAY)\n",
    "\n",
    "# Eşik değeri belirler.\n",
    "(thresh, binary_image) = cv2.threshold(gri_resim, 200, 255, cv2.THRESH_BINARY)\n",
    "\n",
    "# Gaussian bulanıklık uygulaması.\n",
    "blurred_image = cv2.GaussianBlur(binary_image, (5, 5), 3)\n",
    "\n",
    "# Kenar tespiti (Canny) yapar.\n",
    "canny_image = cv2.Canny(blurred_image, 180, 255)\n",
    "\n",
    "# Görüntüyü gösterme\n",
    "plt.imshow(canny_image, cmap='gray')\n",
    "plt.axis('off')\n",
    "plt.show()\n"
   ]
  },
  {
   "cell_type": "markdown",
   "id": "2c4a5b7a",
   "metadata": {},
   "source": [
    "### 10- Yolun Şeritlerini Belirleme"
   ]
  },
  {
   "cell_type": "code",
   "execution_count": null,
   "id": "f4392b19-df68-4bf0-8974-6baead62cb74",
   "metadata": {},
   "outputs": [],
   "source": [
    "# Görüntüyü yükler.\n",
    "resim_yükleme = \"Yol.jpeg\"\n",
    "resim = cv2.imread(resim_yükleme)\n",
    "\n",
    "# Gri tona dönüştürür.\n",
    "gri_resim = cv2.cvtColor(resim, cv2.COLOR_BGR2GRAY)\n",
    "\n",
    "# Eşik değeri belirleme ve kenar tespiti (Canny)\n",
    "_, output2 = cv2.threshold(gri_resim, 200, 255, cv2.THRESH_BINARY) # Kenar tespiti için eşik değerleri ayarlanır.\n",
    "output2 = cv2.Canny(output2, 180, 255)\n",
    "\n",
    "# Hough dönüşümü ile çizgileri algılar.\n",
    "lines = cv2.HoughLinesP(output2, 1, np.pi/180, 30) # Çizgileri algılayan kod yazılır.\n",
    "\n",
    "# Algılanan çizgileri orijinal görüntüye çizer.\n",
    "if lines is not None:\n",
    "    for line in lines:\n",
    "        x1, y1, x2, y2 = line[0]\n",
    "        cv2.line(resim, (x1, y1), (x2, y2), (0, 255, 0), 4) # Görüntü ile çizgileri birleştirir.\n",
    "\n",
    "# Görüntüyü gösterir.\n",
    "plt.figure(figsize=(10, 8))\n",
    "plt.imshow(cv2.cvtColor(resim, cv2.COLOR_BGR2RGB))\n",
    "plt.axis('off')\n",
    "plt.show()\n"
   ]
  },
  {
   "cell_type": "markdown",
   "id": "2c753863",
   "metadata": {},
   "source": [
    "### 11- Bozuk Paraları Yuvarlak İçine Alma"
   ]
  },
  {
   "cell_type": "code",
   "execution_count": null,
   "id": "42a66bc3-468c-44c7-ace2-f83b2d611b61",
   "metadata": {},
   "outputs": [],
   "source": [
    "# Görüntüyü yükler.\n",
    "resim = cv2.imread(\"Paralar6.jpeg\")\n",
    "\n",
    "# Gri tona dönüştürür.\n",
    "gri_resim = cv2.cvtColor(resim, cv2.COLOR_BGR2GRAY)\n",
    "\n",
    "# Eşik değeri belirleme ve kenar tespiti (Canny) yapar.\n",
    "(thresh, output2) = cv2.threshold(gri_resim, 120, 255, cv2.THRESH_BINARY)\n",
    "output2 = cv2.GaussianBlur(output2, (5, 5), 1)\n",
    "output2 = cv2.Canny(output2, 180, 255)\n",
    "\n",
    "# Hough dönüşümü ile daireleri algıla\n",
    "circles = cv2.HoughCircles(output2, cv2.HOUGH_GRADIENT, 1, 10, param1=180, param2=27, minRadius=20, maxRadius=60)\n",
    "\n",
    "# Algılanan daireleri çiz\n",
    "if circles is not None:\n",
    "    circles = np.uint16(np.around(circles))\n",
    "    for i in circles[0,:]:\n",
    "        # Dairenin dış çemberini çiz\n",
    "        cv2.circle(resim, (i[0], i[1]), i[2], (0, 255, 0), 2)\n",
    "        # Dairenin merkezini çiz\n",
    "        cv2.circle(resim, (i[0], i[1]), 2, (0, 0, 255), 3)\n",
    "\n",
    "# Sonucu göster\n",
    "plt.imshow(cv2.cvtColor(resim, cv2.COLOR_BGR2RGB))\n",
    "plt.axis('off')\n",
    "plt.show()"
   ]
  },
  {
   "cell_type": "markdown",
   "id": "d6fb37e3",
   "metadata": {},
   "source": [
    "### 12- Resimdeki Kelimeleri İşaretleme"
   ]
  },
  {
   "cell_type": "code",
   "execution_count": null,
   "id": "39071b4b-7e50-4920-945c-8af91e227959",
   "metadata": {},
   "outputs": [],
   "source": [
    "# Görüntüyü yükler.\n",
    "resim = cv2.imread(\"Yazı.png\")\n",
    "\n",
    "# Yazıları algıla ve verileri elde eder.\n",
    "veri = pytesseract.image_to_data(resim, output_type=pytesseract.Output.DICT, config=\"--psm 6\")\n",
    "\n",
    "# Algılanan kutu sayısını alır.\n",
    "n_boxes = len(veri['text'])\n",
    "\n",
    "# Her kutuyu çerçeveler.\n",
    "for i in range(n_boxes):\n",
    "    # Koordinatları ve boyutları alır.\n",
    "    x, y, w, h = veri['left'][i], veri['top'][i], veri['width'][i], veri['height'][i]\n",
    "    # Sadece yazı kutularını işler.\n",
    "    if data['text'][i].strip() != '':\n",
    "        # Dikdörtgenle çerçeveler.\n",
    "        cv2.rectangle(resim, (x, y), (x + w, y + h), (0, 255, 0), 2)\n",
    "\n",
    "# Görüntüyü gösterir.\n",
    "plt.imshow(cv2.cvtColor(resim, cv2.COLOR_BGR2RGB))\n",
    "plt.axis('off')\n",
    "plt.show()\n"
   ]
  },
  {
   "cell_type": "markdown",
   "id": "cb0a65b1",
   "metadata": {},
   "source": [
    "### 13- Histogram Grafiği Kullanarak Piksel Yoğunluğunu Hesaplama"
   ]
  },
  {
   "cell_type": "code",
   "execution_count": null,
   "id": "947cfdb4-7757-408b-a599-bf40a73330b4",
   "metadata": {},
   "outputs": [],
   "source": [
    "# Görüntüyü yükler.\n",
    "resim_yükleme = \"Doga.jpg\"\n",
    "resim = cv2.imread(resim_yükleme, cv2.IMREAD_GRAYSCALE)\n",
    "\n",
    "# Histogramı hesapla\n",
    "histogram = cv2.calcHist([resim], [0], None, [256], [0, 256])\n",
    "\n",
    "# Histogram grafiğini çiz\n",
    "plt.plot(histogram, color='black')\n",
    "plt.xlabel('Piksel Değeri')\n",
    "plt.ylabel('Piksel Sayısı')\n",
    "plt.title('Görüntü Histogramı')\n",
    "plt.show()\n"
   ]
  }
 ],
 "metadata": {
  "kernelspec": {
   "display_name": "Python 3 (ipykernel)",
   "language": "python",
   "name": "python3"
  },
  "language_info": {
   "codemirror_mode": {
    "name": "ipython",
    "version": 3
   },
   "file_extension": ".py",
   "mimetype": "text/x-python",
   "name": "python",
   "nbconvert_exporter": "python",
   "pygments_lexer": "ipython3",
   "version": "3.11.5"
  }
 },
 "nbformat": 4,
 "nbformat_minor": 5
}
